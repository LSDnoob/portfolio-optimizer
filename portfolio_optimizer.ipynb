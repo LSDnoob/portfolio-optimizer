{
 "cells": [
  {
   "cell_type": "markdown",
   "metadata": {},
   "source": [
    "## Portfolio Optimization Using the Efficient Frontier\n",
    "\n",
    "Portfolio optimization focuses on constructing an optimal allocation of assets to maximize returns while minimizing risk. In this script, Mean-Variance Optimization (MVO) using historical stock data to build an efficient portfolio is implemented. \n",
    "\n",
    "5 stocks are used in this script (which can be expanded into more stocks) to ensure diversification.\n",
    "- Apple Inc. (AAPL) – Technology\n",
    "- JPMorganChase (JPM) – Financials\n",
    "- ExxonMobil (XOM) – Energy\n",
    "- Procter & Gamble (PG) – Consumer Goods\n",
    "- NVIDIA (NVDA) – Semiconductors\n",
    "\n",
    "The key objectives of this script include:\n",
    "1. Data Collection & Processing – Fetching historical stock price data and computing daily returns.\n",
    "2. Risk-Return Analysis – Calculating mean returns and the covariance matrix.\n",
    "3. Portfolio Optimization – Using Scipy's optimization tools to compute efficient portfolio allocations for different risk-return trade-offs.\n",
    "4. Efficient Frontier Visualization – Plotting the efficient frontier to illustrate the optimal portfolios for varying levels of risk.\n",
    "\n",
    "This provides a weighted portfolio striking a balance between returns and risk exposure. It also sets the foundation for further enhancements such as Monte-Carlo simulations, Sharpe ratio maximization and factor-based portfolio construction."
   ]
  },
  {
   "cell_type": "markdown",
   "metadata": {},
   "source": [
    "### Data collection\n",
    "\n",
    "yfinance will be used to get data as it is free. The code gets the closing price for 5 stocks over 4 years."
   ]
  },
  {
   "cell_type": "code",
   "execution_count": 25,
   "metadata": {},
   "outputs": [
    {
     "name": "stderr",
     "output_type": "stream",
     "text": [
      "[*********************100%***********************]  5 of 5 completed"
     ]
    },
    {
     "name": "stdout",
     "output_type": "stream",
     "text": [
      "Ticker           AAPL         JPM      NVDA          PG        XOM\n",
      "Date                                                              \n",
      "2020-01-02  72.716057  121.477242  5.972710  108.419876  55.137985\n",
      "2020-01-03  72.009125  119.874168  5.877112  107.690704  54.694695\n",
      "2020-01-06  72.582916  119.778839  5.901758  107.840034  55.114655\n",
      "2020-01-07  72.241554  117.742523  5.973209  107.172371  54.663593\n",
      "2020-01-08  73.403633  118.661026  5.984412  107.629196  53.839241\n"
     ]
    },
    {
     "name": "stderr",
     "output_type": "stream",
     "text": [
      "\n"
     ]
    }
   ],
   "source": [
    "import yfinance as yf\n",
    "import pandas as pd\n",
    "\n",
    "# choosing 5 stocks across different sectors\n",
    "tickers = ['AAPL', 'JPM', 'XOM', 'PG', 'NVDA']\n",
    "\n",
    "data = yf.download(tickers, start=\"2020-01-01\", end=\"2024-01-01\")['Close']\n",
    "data = data.dropna()  # Remove any rows with missing data\n",
    "\n",
    "print(data.head())"
   ]
  },
  {
   "cell_type": "markdown",
   "metadata": {},
   "source": [
    "### Data preparation\n",
    "\n",
    "Raw prices do not give a good idea of performance, returns measure percentage change making stock prices comparable.\n",
    "Mean returns gives the average return of each stock. \n",
    "\n",
    "Covariance matrix shows how stocks move more relative to each other. If 2 stocks are highly correlated, they wont reduce risk when combined. And if they are negatively correlated, they help hedge against each other"
   ]
  },
  {
   "cell_type": "code",
   "execution_count": 26,
   "metadata": {},
   "outputs": [
    {
     "name": "stdout",
     "output_type": "stream",
     "text": [
      "Ticker\n",
      "AAPL    0.001187\n",
      "JPM     0.000541\n",
      "NVDA    0.002685\n",
      "PG      0.000367\n",
      "XOM     0.000825\n",
      "dtype: float64\n",
      "Ticker      AAPL       JPM      NVDA        PG       XOM\n",
      "Ticker                                                  \n",
      "AAPL    0.000447  0.000210  0.000483  0.000142  0.000154\n",
      "JPM     0.000210  0.000470  0.000272  0.000126  0.000302\n",
      "NVDA    0.000483  0.000272  0.001167  0.000147  0.000177\n",
      "PG      0.000142  0.000126  0.000147  0.000195  0.000081\n",
      "XOM     0.000154  0.000302  0.000177  0.000081  0.000550\n"
     ]
    }
   ],
   "source": [
    "# pct change is the fractional change from the previous row\n",
    "returns = data.pct_change().dropna() \n",
    "\n",
    "# calculating the mean returns and covariance matrices\n",
    "mean_returns = returns.mean()\n",
    "cov_matrix = returns.cov()\n",
    "\n",
    "print(mean_returns)\n",
    "print(cov_matrix)"
   ]
  },
  {
   "cell_type": "markdown",
   "metadata": {},
   "source": [
    "### Defining portfolio functions\n",
    "\n",
    "Port return calculates the weighted sum of expected returns for each stock. Higher weights on high-return stocks increase portfolio return\n",
    "\n",
    "Port variance measures risk. This formula used: $V = w^TCw$, where V is variance, w is the weights vector and C is the covariance matrix\n",
    "\n",
    "Lower variance would imply a less risky portfolio\n",
    "\n",
    "In the mean-variance optimization (Markowitz Model), the portfolio that has the least risk for a given return is found out."
   ]
  },
  {
   "cell_type": "code",
   "execution_count": 27,
   "metadata": {},
   "outputs": [],
   "source": [
    "import numpy as np\n",
    "\n",
    "def portfolio_performance(weights, mean_returns, cov_matrix):\n",
    "    port_return = np.sum(mean_returns * weights)\n",
    "    port_variance = np.dot(weights.T, np.dot(cov_matrix, weights))\n",
    "    return port_return, port_variance\n",
    "\n",
    "def min_variance(weights, cov_matrix):\n",
    "    return np.dot(weights.T, np.dot(cov_matrix, weights))"
   ]
  },
  {
   "cell_type": "markdown",
   "metadata": {},
   "source": [
    "### Optimization\n",
    "\n",
    "Optimal stock weights that give the lowest risk for a given target return is obtained here.\n",
    "\n",
    "The starting point is considered to be an equal weighted portfolio where each of the stocks gets an equal weight (20% in this case) to adjust the weights\n",
    "\n",
    "Constraints ensure that the total investment sums up to 1 ensuring that all the money is allocated; and that that target return is matched. This ensures that an ultra low risk portfolio is not obtained with too low a return.\n",
    "\n",
    "The bounds ensure that negative weights are not assgined (no short selling). It also prevents leverage with weights being greater than 1. \n",
    "\n",
    "#### Scipy minimize()\n",
    "This function iteratively adjusts the stock weights. it minimizes the variance of the portfolio (given by min_variance funtion)\n",
    "\n",
    "SLSQP stands for Sequential Least Squares Programming and is used as it works well with problems with constraints and supports bounds.\n"
   ]
  },
  {
   "cell_type": "code",
   "execution_count": 28,
   "metadata": {},
   "outputs": [],
   "source": [
    "from scipy.optimize import minimize\n",
    "\n",
    "def optimize_portfolio(target_return, mean_returns, cov_matrix):\n",
    "    num_assets = len(mean_returns)\n",
    "    args = (cov_matrix,)\n",
    "    # initial guess: equally weighted portfolio\n",
    "    init_guess = num_assets * [1. / num_assets,]\n",
    "    # constraints: sum of weights equals 1 and portfolio return equals target_return\n",
    "    constraints = (\n",
    "        {'type': 'eq', 'fun': lambda x: np.sum(x) - 1},\n",
    "        {'type': 'eq', 'fun': lambda x: np.sum(mean_returns * x) - target_return},\n",
    "    )\n",
    "    bounds = tuple((0, 1) for asset in range(num_assets))\n",
    "    result = minimize(min_variance, init_guess, args=args,\n",
    "                      method='SLSQP', bounds=bounds, constraints=constraints)\n",
    "    return result\n"
   ]
  },
  {
   "cell_type": "markdown",
   "metadata": {},
   "source": [
    "### Efficient frontier\n",
    "\n",
    "The efficient frontier represents a set of optimal portfolios that offer the highest return for a given level of risk, or the lowest risk for a given level of return. The goal is to plot the efficient frontier by finding the minimum variance portfolio for different target returns. \n",
    "\n",
    "A range of returns is generated (eg 5%, 20%, etc)\n",
    "Then optimize_portfolio() is called to get the lower risk portfolio for that return."
   ]
  },
  {
   "cell_type": "code",
   "execution_count": 29,
   "metadata": {},
   "outputs": [],
   "source": [
    "target_returns = np.linspace(mean_returns.min(), mean_returns.max(), 50)\n",
    "portfolio_returns = []\n",
    "portfolio_variances = []\n",
    "portfolio_weights = []\n",
    "\n",
    "for target in target_returns:\n",
    "    opt = optimize_portfolio(target, mean_returns, cov_matrix)\n",
    "    if opt.success:\n",
    "        ret, var = portfolio_performance(opt.x, mean_returns, cov_matrix)\n",
    "        portfolio_returns.append(ret)\n",
    "        portfolio_variances.append(np.sqrt(var))\n",
    "        portfolio_weights.append(opt.x)\n",
    "    else:\n",
    "        print(\"Optimization failed for target return: \", target)"
   ]
  },
  {
   "cell_type": "markdown",
   "metadata": {},
   "source": [
    "### Visualizing results"
   ]
  },
  {
   "cell_type": "code",
   "execution_count": 32,
   "metadata": {},
   "outputs": [
    {
     "data": {
      "image/png": "[encoded data removed]",
      "text/plain": [
       "<Figure size 720x432 with 1 Axes>"
      ]
     },
     "metadata": {
      "needs_background": "light"
     },
     "output_type": "display_data"
    },
    {
     "name": "stdout",
     "output_type": "stream",
     "text": [
      "Sample portfolio weights along the Efficient Frontier:\n",
      "\n",
      "Target Return: 0.0004 | Weights: [0.00000000e+00 2.01227923e-16 2.86030236e-17 1.00000000e+00\n",
      " 0.00000000e+00]\n",
      "Target Return: 0.0009 | Weights: [0.19643319 0.23127815 0.11535865 0.24092964 0.21600036]\n",
      "Target Return: 0.0015 | Weights: [0.20730363 0.13563262 0.37322969 0.11660478 0.16722928]\n",
      "Target Return: 0.0021 | Weights: [0.2159176  0.03601016 0.63283384 0.         0.1152384 ]\n",
      "Target Return: 0.0027 | Weights: [1.72945680e-09 2.49800181e-16 9.99999998e-01 8.32667268e-17\n",
      " 0.00000000e+00]\n"
     ]
    }
   ],
   "source": [
    "import matplotlib.pyplot as plt\n",
    "\n",
    "sorted_indices = np.argsort(portfolio_variances)\n",
    "sorted_risks = np.array(portfolio_variances)[sorted_indices]\n",
    "sorted_returns = np.array(portfolio_returns)[sorted_indices]\n",
    "\n",
    "plt.figure(figsize=(10, 6))\n",
    "plt.plot(sorted_risks, sorted_returns, linestyle='-', marker='o', color='b', label=\"Efficient Frontier\")\n",
    "plt.xlabel('Portfolio Risk (Std. Deviation)')\n",
    "plt.ylabel('Portfolio Return')\n",
    "plt.title('Efficient Frontier')\n",
    "plt.legend()\n",
    "plt.grid(True)\n",
    "plt.show()\n",
    "\n",
    "# Convert to NumPy array for easier analysis\n",
    "portfolio_weights = np.array(portfolio_weights)\n",
    "\n",
    "# Print weights for 5 sample points on the frontier\n",
    "print(\"Sample portfolio weights along the Efficient Frontier:\\n\")\n",
    "for i in np.linspace(0, len(portfolio_weights) - 1, 5, dtype=int):\n",
    "    print(f\"Target Return: {target_returns[i]:.4f} | Weights: {portfolio_weights[i]}\")"
   ]
  },
  {
   "cell_type": "markdown",
   "metadata": {},
   "source": [
    "#### Minimum Variance Portfolio (targeted daily return = 0.0004)\n",
    "\n",
    "100% allocation for P&G which implies PG to be the most stable stock minimizing risk\n",
    "\n",
    "#### Diversified Portfolio (targeted daily return = 0.0009)\n",
    "\n",
    "Well balanced allocations: AAPL - 19.64%, JPM - 23.13%, XOM: 11.54%, PG: 24.09%, NVDA: 21.60%\n",
    "\n",
    "#### Medium Risk Portfolio (targeted daily return = 0.0015)\n",
    "\n",
    "Higher allocation to XOM and lesser weight in JPM and PG. There is a slight shift to higher risk stocks\n",
    "\n",
    "#### High Risk Portfolio (targeted daily return = 0.0021)\n",
    "\n",
    "XOM dominated with 63.28%. JPM drops further and PG is removed completely. This implies an even higher weightage on higher risk stocks\n",
    "\n",
    "#### Minimum Variance Portfolio (targeted daily return = 0.0027)\n",
    "\n",
    "100% allocation for XOM, which has the highest risk among all the other portfolios"
   ]
  }
 ],
 "metadata": {
  "kernelspec": {
   "display_name": "Python 3",
   "language": "python",
   "name": "python3"
  },
  "language_info": {
   "codemirror_mode": {
    "name": "ipython",
    "version": 3
   },
   "file_extension": ".py",
   "mimetype": "text/x-python",
   "name": "python",
   "nbconvert_exporter": "python",
   "pygments_lexer": "ipython3",
   "version": "3.8.10"
  }
 },
 "nbformat": 4,
 "nbformat_minor": 2
}
